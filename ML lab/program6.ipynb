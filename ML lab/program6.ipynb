{
  "cells": [
    {
      "cell_type": "markdown",
      "metadata": {
        "colab_type": "text",
        "id": "view-in-github"
      },
      "source": [
        "<a href=\"https://colab.research.google.com/github/Niraj-Ramnani/Lab-Record-6th-sem/blob/main/ML%20lab/program6.ipynb\" target=\"_parent\"><img src=\"https://colab.research.google.com/assets/colab-badge.svg\" alt=\"Open In Colab\"/></a>"
      ]
    },
    {
      "cell_type": "markdown",
      "metadata": {},
      "source": [
        "### Assuming a set of documents that need to be classified, use the naïve Bayesian Classifier model to perform this task. Built-in Java classes/API can be used to write the program. Calculate the accuracy, precision, and recall for your data set."
      ]
    },
    {
      "cell_type": "code",
      "execution_count": null,
      "metadata": {
        "id": "N1avNDsxrAee"
      },
      "outputs": [],
      "source": [
        "from google.colab import drive"
      ]
    },
    {
      "cell_type": "code",
      "execution_count": null,
      "metadata": {
        "colab": {
          "base_uri": "https://localhost:8080/"
        },
        "id": "gtkc6sMxrEVx",
        "outputId": "32027331-e555-4eba-a731-4adc0f955b52"
      },
      "outputs": [
        {
          "name": "stdout",
          "output_type": "stream",
          "text": [
            "Drive already mounted at /content/drive; to attempt to forcibly remount, call drive.mount(\"/content/drive\", force_remount=True).\n"
          ]
        }
      ],
      "source": [
        "drive.mount('/content/drive')"
      ]
    },
    {
      "cell_type": "code",
      "execution_count": 17,
      "metadata": {
        "colab": {
          "base_uri": "https://localhost:8080/"
        },
        "id": "OBteaA_GrPrw",
        "outputId": "9ea5313b-8168-4da1-e6e7-f35fd4dbf8f6"
      },
      "outputs": [
        {
          "name": "stdout",
          "output_type": "stream",
          "text": [
            "/content/drive/MyDrive\n"
          ]
        }
      ],
      "source": [
        "%cd /content/drive/MyDrive/"
      ]
    },
    {
      "cell_type": "code",
      "execution_count": 18,
      "metadata": {
        "colab": {
          "base_uri": "https://localhost:8080/"
        },
        "id": "pyJQ3PObrf0K",
        "outputId": "0dc8df5b-02f3-4041-90f1-abd44e292492"
      },
      "outputs": [
        {
          "name": "stdout",
          "output_type": "stream",
          "text": [
            "/content/drive/MyDrive/mydata\n"
          ]
        }
      ],
      "source": [
        "%cd mydata"
      ]
    },
    {
      "cell_type": "code",
      "execution_count": null,
      "metadata": {
        "colab": {
          "base_uri": "https://localhost:8080/"
        },
        "id": "jLAz6hwLrk04",
        "outputId": "852dbb98-1468-4e60-d78f-103a4cc29c7e"
      },
      "outputs": [
        {
          "name": "stdout",
          "output_type": "stream",
          "text": [
            "The dimmension of the dataset  (18, 2)\n",
            "0                      I love this sandwich\n",
            "1                  This is an amazing place\n",
            "2        I feel very good about these beers\n",
            "3                      This is my best work\n",
            "4                      What an awesome view\n",
            "5             I do not like this restaurant\n",
            "6                  I am tired of this stuff\n",
            "7                    I can't deal with this\n",
            "8                      He is my sworn enemy\n",
            "9                       My boss is horrible\n",
            "10                 This is an awesome place\n",
            "11    I do not like the taste of this juice\n",
            "12                          I love to dance\n",
            "13        I am sick and tired of this place\n",
            "14                     What a great holiday\n",
            "15           That is a bad locality to stay\n",
            "16           We will have good fun tomorrow\n",
            "17         I went to my enemy's house today\n",
            "Name: message, dtype: object\n",
            "0     1\n",
            "1     1\n",
            "2     1\n",
            "3     1\n",
            "4     1\n",
            "5     0\n",
            "6     0\n",
            "7     0\n",
            "8     0\n",
            "9     0\n",
            "10    1\n",
            "11    0\n",
            "12    1\n",
            "13    0\n",
            "14    1\n",
            "15    0\n",
            "16    1\n",
            "17    0\n",
            "Name: labelnum, dtype: int64\n"
          ]
        }
      ],
      "source": [
        "import pandas as pd\n",
        "msg = pd.read_csv(\"naivetext.csv\", names = ['message','label'])\n",
        "print('The dimmension of the dataset ', msg.shape)\n",
        "msg['labelnum'] = msg.label.map({'pos':1, 'neg':0})\n",
        "X = msg.message\n",
        "y = msg.labelnum\n",
        "print(X)\n",
        "print(y)"
      ]
    },
    {
      "cell_type": "code",
      "execution_count": null,
      "metadata": {
        "colab": {
          "base_uri": "https://localhost:8080/"
        },
        "id": "pc4LmH0rvR-Q",
        "outputId": "8e80f21c-2478-4f46-a9e0-a97db5426676"
      },
      "outputs": [
        {
          "name": "stdout",
          "output_type": "stream",
          "text": [
            "\n",
            " the total number of training data  (14,)\n",
            "\n",
            " the total number of testing data  (4,)\n"
          ]
        }
      ],
      "source": [
        "# splitting the data set into train and test data set\n",
        "from sklearn.model_selection import train_test_split\n",
        "xtrain, xtest, ytrain, ytest = train_test_split(X, y,test_size=0.20)\n",
        "\n",
        "print('\\n the total number of training data ',ytrain.shape)\n",
        "print('\\n the total number of testing data ',ytest.shape)"
      ]
    },
    {
      "cell_type": "code",
      "execution_count": null,
      "metadata": {
        "colab": {
          "base_uri": "https://localhost:8080/"
        },
        "id": "Q_djbAkswkdE",
        "outputId": "6d836d87-99cc-49e6-8ff8-fd724866c75d"
      },
      "outputs": [
        {
          "name": "stdout",
          "output_type": "stream",
          "text": [
            "\n",
            " The words or Tokens in the text documents \n",
            "\n",
            "['about' 'am' 'amazing' 'an' 'and' 'awesome' 'beers' 'best' 'boss' 'can'\n",
            " 'dance' 'deal' 'do' 'enemy' 'feel' 'fun' 'good' 'have' 'he' 'horrible'\n",
            " 'house' 'is' 'like' 'love' 'my' 'not' 'of' 'place' 'restaurant'\n",
            " 'sandwich' 'sick' 'sworn' 'these' 'this' 'tired' 'to' 'today' 'tomorrow'\n",
            " 'very' 'view' 'we' 'went' 'what' 'will' 'with' 'work']\n"
          ]
        }
      ],
      "source": [
        "# output of the words or token in the text document\n",
        "import numpy as np\n",
        "from sklearn.feature_extraction.text import CountVectorizer\n",
        "count_vect = CountVectorizer()\n",
        "xtrain_dtm = count_vect.fit_transform(xtrain)\n",
        "xtest_dtm = count_vect.transform(xtest)\n",
        "index = count_vect.get_feature_names_out()\n",
        "print('\\n The words or Tokens in the text documents \\n')\n",
        "print(count_vect.get_feature_names_out())\n",
        "df = pd.DataFrame(xtrain_dtm.toarray(), columns = count_vect.get_feature_names_out())\n",
        "\n"
      ]
    },
    {
      "cell_type": "code",
      "execution_count": null,
      "metadata": {
        "id": "44_Jf596xe5P"
      },
      "outputs": [],
      "source": [
        "from sklearn.naive_bayes import MultinomialNB\n",
        "clf = MultinomialNB()\n",
        "clf.fit(xtrain_dtm,ytrain)\n",
        "predicted = clf.predict(xtest_dtm)"
      ]
    },
    {
      "cell_type": "code",
      "execution_count": null,
      "metadata": {
        "colab": {
          "base_uri": "https://localhost:8080/"
        },
        "id": "0-on1MEGyEmi",
        "outputId": "be3bddba-1013-4773-e40d-256dd608eca2"
      },
      "outputs": [
        {
          "name": "stdout",
          "output_type": "stream",
          "text": [
            "\n",
            " Accuracy of the classifier is  0.75\n",
            "\n",
            " confusion matrix\n",
            "[[2 1]\n",
            " [0 1]]\n",
            "\n",
            " The value of Precision 0.5\n",
            "\n",
            " The value of Recall 1.0\n"
          ]
        }
      ],
      "source": [
        "from sklearn import metrics\n",
        "print('\\n Accuracy of the classifier is ', metrics.accuracy_score(ytest, predicted))\n",
        "print('\\n confusion matrix')\n",
        "print(metrics.confusion_matrix(ytest, predicted))\n",
        "print('\\n The value of Precision', metrics.precision_score(ytest, predicted))\n",
        "print('\\n The value of Recall', metrics.recall_score(ytest, predicted))"
      ]
    },
    {
      "cell_type": "code",
      "execution_count": null,
      "metadata": {
        "id": "kknHlGwiNmr_"
      },
      "outputs": [],
      "source": []
    }
  ],
  "metadata": {
    "colab": {
      "authorship_tag": "ABX9TyPCyT4YhsJ6FUkq0PzeV/yY",
      "include_colab_link": true,
      "mount_file_id": "1Kv3AyABmnWyNtCSZGAXQlmP8UgG0VajC",
      "provenance": []
    },
    "kernelspec": {
      "display_name": "Python 3",
      "name": "python3"
    },
    "language_info": {
      "name": "python"
    }
  },
  "nbformat": 4,
  "nbformat_minor": 0
}
