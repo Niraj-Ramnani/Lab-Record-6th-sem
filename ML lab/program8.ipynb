{
  "nbformat": 4,
  "nbformat_minor": 0,
  "metadata": {
    "colab": {
      "provenance": [],
      "authorship_tag": "ABX9TyOL68SWyMU1c7cFx1OWONDO",
      "include_colab_link": true
    },
    "kernelspec": {
      "name": "python3",
      "display_name": "Python 3"
    },
    "language_info": {
      "name": "python"
    }
  },
  "cells": [
    {
      "cell_type": "markdown",
      "metadata": {
        "id": "view-in-github",
        "colab_type": "text"
      },
      "source": [
        "<a href=\"https://colab.research.google.com/github/Niraj-Ramnani/Lab-Record-6th-sem/blob/main/ML%20lab/program8.ipynb\" target=\"_parent\"><img src=\"https://colab.research.google.com/assets/colab-badge.svg\" alt=\"Open In Colab\"/></a>"
      ]
    },
    {
      "cell_type": "code",
      "execution_count": 1,
      "metadata": {
        "id": "-YxwPv-v5Bxm"
      },
      "outputs": [],
      "source": [
        "from google.colab import drive"
      ]
    },
    {
      "cell_type": "code",
      "source": [
        "drive.mount('/content/drive')"
      ],
      "metadata": {
        "colab": {
          "base_uri": "https://localhost:8080/"
        },
        "id": "r7C5E6wq5Fec",
        "outputId": "b15143df-e3ff-4210-f1bf-1c49d6faaa2a"
      },
      "execution_count": 4,
      "outputs": [
        {
          "output_type": "stream",
          "name": "stdout",
          "text": [
            "Mounted at /content/drive\n"
          ]
        }
      ]
    },
    {
      "cell_type": "code",
      "source": [
        "%cd /content/drive/MyDrive/"
      ],
      "metadata": {
        "colab": {
          "base_uri": "https://localhost:8080/"
        },
        "id": "wDJGpHpB5KCM",
        "outputId": "d7fbf53d-c950-49c7-a343-69036e48560b"
      },
      "execution_count": 5,
      "outputs": [
        {
          "output_type": "stream",
          "name": "stdout",
          "text": [
            "/content/drive/MyDrive\n"
          ]
        }
      ]
    },
    {
      "cell_type": "markdown",
      "source": [
        "##Write a program to construct aBayesian network considering medical data. Use this model to demonstrate the diagnosis of heart patients using standard Heart Disease Data Set. You can use Java/Python ML library classes/API."
      ],
      "metadata": {
        "id": "OOlAVBXl561C"
      }
    },
    {
      "cell_type": "code",
      "source": [
        "import pandas as pd\n",
        "data = pd.read_csv('/content/drive/MyDrive/mydata/heartdisease .csv')\n",
        "heart_disease = pd.DataFrame(data)\n",
        "print(heart_disease)"
      ],
      "metadata": {
        "colab": {
          "base_uri": "https://localhost:8080/"
        },
        "id": "I3lpNJcS5YXT",
        "outputId": "668686ce-8b7a-4323-ba1e-0d798217ff80"
      },
      "execution_count": 15,
      "outputs": [
        {
          "output_type": "stream",
          "name": "stdout",
          "text": [
            "    age  Gender  Family  diet  Lifestyle  cholestrol  heartdisease\n",
            "0     0       0       1     1          3           0             1\n",
            "1     0       1       1     1          3           0             1\n",
            "2     1       0       0     0          2           1             1\n",
            "3     4       0       1     1          3           2             0\n",
            "4     3       1       1     0          0           2             0\n",
            "5     2       0       1     1          1           0             1\n",
            "6     4       0       1     0          2           0             1\n",
            "7     0       0       1     1          3           0             1\n",
            "8     3       1       1     0          0           2             0\n",
            "9     1       1       0     0          0           2             1\n",
            "10    4       1       0     1          2           0             1\n",
            "11    4       0       1     1          3           2             0\n",
            "12    2       1       0     0          0           0             0\n",
            "13    2       0       1     1          1           0             1\n",
            "14    3       1       1     0          0           1             0\n",
            "15    0       0       1     0          0           2             1\n",
            "16    1       1       0     1          2           1             1\n",
            "17    3       1       1     1          0           1             0\n",
            "18    4       0       1     1          3           2             0\n"
          ]
        }
      ]
    },
    {
      "cell_type": "code",
      "source": [
        "import pgmpy.models\n",
        "from pgmpy.models import BayesianNetwork\n",
        "model = BayesianNetwork([\n",
        "('age' , 'Lifestyle'),\n",
        "('Gender' , 'Lifestyle'),\n",
        "('Family' , 'heartdisease'),\n",
        "('diet' , 'cholestrol'),\n",
        "('Lifestyle' , 'diet'),\n",
        "('cholestrol' , 'heartdisease'),\n",
        "('diet' , 'cholestrol')\n",
        "\n",
        "])\n",
        "\n",
        "from pgmpy.estimators import MaximumLikelihoodEstimator\n",
        "model.fit(heart_disease , estimator=MaximumLikelihoodEstimator)\n",
        "\n",
        "from pgmpy.inference import VariableElimination\n",
        "HeartDisease_infer = VariableElimination(model)"
      ],
      "metadata": {
        "id": "NZz7Wj6w6s7c"
      },
      "execution_count": 18,
      "outputs": []
    },
    {
      "cell_type": "code",
      "source": [
        "print('For age Enter { SuperSeniorCitizen:0, SeniorCitizen:1, MiddleAged:2, Youth:3, Teen:4 } ')\n",
        "print('For Gender Enter { Male:0, Female:1 }')\n",
        "print('For Family History Enter { yes:1, No:0 }')\n",
        "print('For diet Enter { High:0, Medium:1 }')\n",
        "print('For LifeStyle Enter { Athlete:0, Active:1, Moderate:2, Sedentary:3 }')\n",
        "print('For cholesterol Enter { High:0, BorderLine:1, Normal:2 }')\n",
        "\n",
        "q = HeartDisease_infer.query(variables=['heartdisease'], evidence={\n",
        "    'age':int(input('Enter age: ')),\n",
        "    'Gender':int(input('Enter Gender: ')),\n",
        "    'Family':int(input('Enter Family History: ')),\n",
        "    'diet':int(input('Enter diet: ')),\n",
        "    'Lifestyle':int(input('Enter Lifestyle: ')),\n",
        "    'cholestrol':int(input('Enter cholestrol: '))\n",
        "\n",
        "})\n",
        "\n",
        "heart_disease_prob = q.values[1]\n",
        "print(f\"Probability of heart disease (heartdisease = 1): {heart_disease_prob}\")"
      ],
      "metadata": {
        "colab": {
          "base_uri": "https://localhost:8080/"
        },
        "id": "kCtRPq4k88yR",
        "outputId": "8654dc99-4802-45bb-988c-8b3b5fa6dde2"
      },
      "execution_count": 23,
      "outputs": [
        {
          "output_type": "stream",
          "name": "stdout",
          "text": [
            "For age Enter { SuperSeniorCitizen:0, SeniorCitizen:1, MiddleAged:2, Youth:3, Teen:4 } \n",
            "For Gender Enter { Male:0, Female:1 }\n",
            "For Family History Enter { yes:1, No:0 }\n",
            "For diet Enter { High:0, Medium:1 }\n",
            "For LifeStyle Enter { Athlete:0, Active:1, Moderate:2, Sedentary:3 }\n",
            "For cholesterol Enter { High:0, BorderLine:1, Normal:2 }\n",
            "Enter age: 1\n",
            "Enter Gender: 1\n",
            "Enter Family History: 1\n",
            "Enter diet: 1\n",
            "Enter Lifestyle: 1\n",
            "Enter cholestrol: 1\n",
            "Query result: \n",
            "+-----------------+---------------------+\n",
            "| heartdisease    |   phi(heartdisease) |\n",
            "+=================+=====================+\n",
            "| heartdisease(0) |              1.0000 |\n",
            "+-----------------+---------------------+\n",
            "| heartdisease(1) |              0.0000 |\n",
            "+-----------------+---------------------+\n",
            "Probability of heart disease (heartdisease = 1): 0.0\n"
          ]
        }
      ]
    },
    {
      "cell_type": "code",
      "source": [],
      "metadata": {
        "id": "9tHNofbM-ib8"
      },
      "execution_count": null,
      "outputs": []
    }
  ]
}