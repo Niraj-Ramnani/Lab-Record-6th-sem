{
  "nbformat": 4,
  "nbformat_minor": 0,
  "metadata": {
    "colab": {
      "provenance": [],
      "authorship_tag": "ABX9TyP989ScWKxshchdmHcVizea",
      "include_colab_link": true
    },
    "kernelspec": {
      "name": "python3",
      "display_name": "Python 3"
    },
    "language_info": {
      "name": "python"
    }
  },
  "cells": [
    {
      "cell_type": "markdown",
      "metadata": {
        "id": "view-in-github",
        "colab_type": "text"
      },
      "source": [
        "<a href=\"https://colab.research.google.com/github/Niraj-Ramnani/Lab-Record-6th-sem/blob/main/ML%20lab/program10.ipynb\" target=\"_parent\"><img src=\"https://colab.research.google.com/assets/colab-badge.svg\" alt=\"Open In Colab\"/></a>"
      ]
    },
    {
      "cell_type": "code",
      "execution_count": null,
      "metadata": {
        "id": "_BhiivTE_vnH"
      },
      "outputs": [],
      "source": [
        "import numpy as np"
      ]
    },
    {
      "cell_type": "code",
      "source": [
        "x = np.array(([2,9],[1,5],[3,6]),dtype=float)\n",
        "y = np.array(([92],[86],[89]),dtype=float)\n",
        "x = x/np.amax(x,axis=0)\n",
        "y = y/100"
      ],
      "metadata": {
        "id": "W2wLPqAg_yQJ"
      },
      "execution_count": null,
      "outputs": []
    },
    {
      "cell_type": "code",
      "source": [
        "x"
      ],
      "metadata": {
        "colab": {
          "base_uri": "https://localhost:8080/"
        },
        "id": "SoPiIwI4ChND",
        "outputId": "3c58b2ee-059a-483d-89a8-ad5855306c78"
      },
      "execution_count": null,
      "outputs": [
        {
          "output_type": "execute_result",
          "data": {
            "text/plain": [
              "array([[0.66666667, 1.        ],\n",
              "       [0.33333333, 0.55555556],\n",
              "       [1.        , 0.66666667]])"
            ]
          },
          "metadata": {},
          "execution_count": 5
        }
      ]
    },
    {
      "cell_type": "code",
      "source": [
        "y"
      ],
      "metadata": {
        "colab": {
          "base_uri": "https://localhost:8080/"
        },
        "id": "LF6cwuYmCsNc",
        "outputId": "1786aff8-b854-4836-fa4f-64321fc9c840"
      },
      "execution_count": null,
      "outputs": [
        {
          "output_type": "execute_result",
          "data": {
            "text/plain": [
              "array([[0.92],\n",
              "       [0.86],\n",
              "       [0.89]])"
            ]
          },
          "metadata": {},
          "execution_count": 6
        }
      ]
    },
    {
      "cell_type": "code",
      "source": [
        "def sigmoid(x):\n",
        "  return 1/(1 + np.exp(-x))\n",
        "def sigmoid_grad(x):\n",
        "  return x * (1-x)"
      ],
      "metadata": {
        "id": "XxxGEQMY_425"
      },
      "execution_count": null,
      "outputs": []
    },
    {
      "cell_type": "code",
      "source": [
        "epoch = 1000\n",
        "eta = 0.2\n",
        "input_neurons = 2\n",
        "hidden_neurons = 3\n",
        "output_neurons = 1\n"
      ],
      "metadata": {
        "id": "jhFgja0DAeuZ"
      },
      "execution_count": null,
      "outputs": []
    },
    {
      "cell_type": "code",
      "source": [
        "wh = np.random.uniform(size=(input_neurons,hidden_neurons))\n",
        "bh = np.random.uniform(size=(1,hidden_neurons))\n",
        "wout=np.random.uniform(size=(hidden_neurons,output_neurons))\n",
        "bout=np.random.uniform(size=(1,output_neurons))\n"
      ],
      "metadata": {
        "id": "D_BddzmVA4dl"
      },
      "execution_count": null,
      "outputs": []
    },
    {
      "cell_type": "code",
      "source": [
        "for i in range(epoch):\n",
        "  h_ip = np.dot(x,wh) + bh\n",
        "  h_act = sigmoid(h_ip)\n",
        "  o_ip = np.dot(h_act,wout) + bout\n",
        "  output = sigmoid(o_ip)\n",
        "  Eo = y -output\n",
        "  outgrad = sigmoid_grad(output)\n",
        "  d_output = Eo * outgrad\n",
        "  Eh = d_output.dot(wout.T)\n",
        "  hiddengrad = sigmoid_grad(h_act)\n",
        "  d_hidden = Eh * hiddengrad\n",
        "  wout += h_act.T.dot(d_output) * eta\n",
        "  wh += x.T.dot(d_hidden) * eta\n"
      ],
      "metadata": {
        "id": "jxeeNlgzDP4e"
      },
      "execution_count": null,
      "outputs": []
    },
    {
      "cell_type": "code",
      "source": [
        "print(\"Normalized Input:\\n\",str(x))\n",
        "print(\"Actual Output:\\n\",str(y))\n",
        "print(\"Predicted Output:\\n\",output)"
      ],
      "metadata": {
        "colab": {
          "base_uri": "https://localhost:8080/"
        },
        "id": "gIZcUSKIDria",
        "outputId": "9ed7312e-e0cf-452d-eedb-6f0975325809"
      },
      "execution_count": null,
      "outputs": [
        {
          "output_type": "stream",
          "name": "stdout",
          "text": [
            "Normalized Input:\n",
            " [[0.66666667 1.        ]\n",
            " [0.33333333 0.55555556]\n",
            " [1.         0.66666667]]\n",
            "Actual Output:\n",
            " [[0.92]\n",
            " [0.86]\n",
            " [0.89]]\n",
            "Predicted Output:\n",
            " [[0.89631814]\n",
            " [0.88019629]\n",
            " [0.8932312 ]]\n"
          ]
        }
      ]
    },
    {
      "cell_type": "code",
      "source": [],
      "metadata": {
        "id": "GXL6Z1gJD1OP"
      },
      "execution_count": null,
      "outputs": []
    }
  ]
}